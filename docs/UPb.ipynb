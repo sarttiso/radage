{
 "cells": [
  {
   "cell_type": "markdown",
   "id": "7a397a96-779f-4445-bdf8-adec1fc85826",
   "metadata": {},
   "source": [
    "# U-Pb"
   ]
  },
  {
   "cell_type": "markdown",
   "id": "410aeb49-5920-4f6a-81f6-fc4a38ef92ab",
   "metadata": {},
   "source": [
    "Analysis and plotting of U-Pb isotopic data is covered here."
   ]
  }
 ],
 "metadata": {
  "kernelspec": {
   "display_name": "Python 3 (ipykernel)",
   "language": "python",
   "name": "python3"
  },
  "language_info": {
   "codemirror_mode": {
    "name": "ipython",
    "version": 3
   },
   "file_extension": ".py",
   "mimetype": "text/x-python",
   "name": "python",
   "nbconvert_exporter": "python",
   "pygments_lexer": "ipython3",
   "version": "3.12.8"
  }
 },
 "nbformat": 4,
 "nbformat_minor": 5
}
